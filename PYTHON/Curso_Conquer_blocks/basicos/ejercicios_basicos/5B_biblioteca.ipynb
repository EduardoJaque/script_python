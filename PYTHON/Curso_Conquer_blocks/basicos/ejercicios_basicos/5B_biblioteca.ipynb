{
 "cells": [
  {
   "cell_type": "code",
   "execution_count": 3,
   "metadata": {},
   "outputs": [
    {
     "name": "stdout",
     "output_type": "stream",
     "text": [
      "El aleph por Jorge Luis Borges\n",
      "Cien años de soledad por Garbriel Garcia Márquez\n",
      "La ciudad y los perros por Mario Vargas Llosa\n"
     ]
    },
    {
     "ename": "",
     "evalue": "",
     "output_type": "error",
     "traceback": [
      "\u001b[1;31mEl kernel se bloqueó al ejecutar código en la celda actual o en una celda anterior. \n",
      "\u001b[1;31mRevise el código de las celdas para identificar una posible causa del error. \n",
      "\u001b[1;31mHaga clic <a href='https://aka.ms/vscodeJupyterKernelCrash'>aquí</a> para obtener más información. \n",
      "\u001b[1;31mVea Jupyter <a href='command:jupyter.viewOutput'>log</a> para obtener más detalles."
     ]
    }
   ],
   "source": [
    "#tomar una lista de tuplas\n",
    "lista_libros = [(\"El aleph\", \"Jorge Luis Borges\"), (\"Cien años de soledad\", \"Garbriel Garcia Márquez\"), (\"La ciudad y los perros\", \n",
    "\"Mario Vargas Llosa\")]\n",
    "\n",
    "# y devuelva una nueva lista de tuplas que contenga el título del libro y el apellido del autor\n",
    "for i, j in lista_libros:\n",
    "    print(f\"{i} por {j}\")"
   ]
  }
 ],
 "metadata": {
  "kernelspec": {
   "display_name": "jake",
   "language": "python",
   "name": "python3"
  },
  "language_info": {
   "codemirror_mode": {
    "name": "ipython",
    "version": 3
   },
   "file_extension": ".py",
   "mimetype": "text/x-python",
   "name": "python",
   "nbconvert_exporter": "python",
   "pygments_lexer": "ipython3",
   "version": "3.12.4"
  }
 },
 "nbformat": 4,
 "nbformat_minor": 2
}
