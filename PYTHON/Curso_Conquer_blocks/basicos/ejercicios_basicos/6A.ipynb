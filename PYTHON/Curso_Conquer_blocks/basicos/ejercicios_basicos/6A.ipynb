{
 "cells": [
  {
   "cell_type": "code",
   "execution_count": 7,
   "metadata": {},
   "outputs": [
    {
     "name": "stdout",
     "output_type": "stream",
     "text": [
      "False\n"
     ]
    }
   ],
   "source": [
    "mi_diccionario={}\n",
    "mi_diccionario[\"nombre\"]=\"eduardo\"\n",
    "print(mi_diccionario.get(\"edad\")==31)"
   ]
  },
  {
   "cell_type": "code",
   "execution_count": 10,
   "metadata": {},
   "outputs": [
    {
     "name": "stdout",
     "output_type": "stream",
     "text": [
      "{'nombre': 'eduardo', 'edad': 31, 'materias': ['calculo', 'algebra']}\n",
      "{'nombre': 'eduardo', 'edad': 32, 'materias': ['calculo', 'algebra']}\n",
      "{'nombre': 'eduardo', 'edad': 32}\n",
      "dict_keys(['nombre', 'edad'])\n"
     ]
    }
   ],
   "source": [
    "# ejercicio 5\n",
    "estudiantes={\"nombre\": \"eduardo\", \"edad\": 31, \"materias\": [\"calculo\",\"algebra\"]}\n",
    "print(estudiantes)\n",
    "# ejercicio 6\n",
    "estudiantes[\"edad\"]=32\n",
    "print (estudiantes)\n",
    "# ejercicio 7\n",
    "del estudiantes[\"materias\"]\n",
    "print(estudiantes)\n",
    "#ejercicio 8\n",
    "print(estudiantes.keys())"
   ]
  },
  {
   "cell_type": "code",
   "execution_count": 15,
   "metadata": {},
   "outputs": [
    {
     "name": "stdout",
     "output_type": "stream",
     "text": [
      "{'juan': 1234567890, 'joana': 9876543210, 'jimena': 555555555, 'julio': 9998887777}\n",
      "['juan', 'joana', 'jimena', 'julio']\n"
     ]
    }
   ],
   "source": [
    "agenda={\"juan\":1234567890,\n",
    "        \"joana\":9876543210,\n",
    "        \"jimena\":555555555,}\n",
    "# 10\n",
    "agenda[\"julio\"] =9998887777\n",
    "# 11\n",
    "print(agenda)\n",
    "#12\n",
    "claves=list(agenda.keys())\n",
    "print(claves)\n"
   ]
  },
  {
   "cell_type": "code",
   "execution_count": 22,
   "metadata": {},
   "outputs": [
    {
     "name": "stdout",
     "output_type": "stream",
     "text": [
      "True\n",
      "{'juan': 1234567890, 'joana': 9876543210}\n"
     ]
    }
   ],
   "source": [
    "agenda={\"juan\":1234567890,\n",
    "        \"joana\":9876543210,\n",
    "        \"jimena\":555555555,}\n",
    "#13\n",
    "print(agenda.get(\"juan\")==1234567890)\n",
    "#14 \n",
    "del agenda[\"jimena\"]\n",
    "print(agenda)\n"
   ]
  },
  {
   "cell_type": "code",
   "execution_count": 32,
   "metadata": {},
   "outputs": [
    {
     "name": "stdout",
     "output_type": "stream",
     "text": [
      "juan : 1234567890\n",
      "joana : 9876543210\n",
      "jimena : 555555555\n",
      "1234567890\n",
      "{}\n"
     ]
    }
   ],
   "source": [
    "agenda={\"juan\":1234567890,\n",
    "        \"joana\":9876543210,\n",
    "        \"jimena\":555555555,\n",
    "        }\n",
    "#15\n",
    "for nombre,numero in agenda.items(): \n",
    "    print(nombre,\":\",numero)\n",
    "#16 \n",
    "print(agenda.get(\"juan\", \"clave no encontrada\"))\n",
    "#17\n",
    "agenda.clear()\n",
    "print(agenda)"
   ]
  },
  {
   "cell_type": "code",
   "execution_count": 7,
   "metadata": {},
   "outputs": [
    {
     "name": "stdout",
     "output_type": "stream",
     "text": [
      "dict_values(['eduardo', 31])\n",
      "dict_values(['juan', 40])\n",
      "dict_values(['eduardo', 31])\n",
      "dict_values(['juan', 40])\n",
      "dict_values(['carol', 21])\n"
     ]
    }
   ],
   "source": [
    "# 18\n",
    "estudiantes=[{\"nombre\":\"eduardo\",\"edad\":31,},\n",
    "             {\"nombre\":\"juan\",\"edad\": 40},\n",
    "             ]\n",
    "for diccionario in estudiantes:\n",
    "    print(diccionario.values())\n",
    "\n"
   ]
  },
  {
   "cell_type": "code",
   "execution_count": 27,
   "metadata": {},
   "outputs": [
    {
     "name": "stdout",
     "output_type": "stream",
     "text": [
      "dict_values(['eduardo', 21])\n",
      "dict_values([40])\n",
      "dict_values(['carol', 21])\n",
      "dict_values(['carol', 21])\n",
      "dict_values(['carol', 21])\n",
      "dict_values(['carol', 21])\n",
      "dict_values(['carol', 21])\n",
      "dict_values(['carol', 21])\n",
      "dict_values(['carol', 21])\n",
      "dict_values(['carol', 21])\n"
     ]
    }
   ],
   "source": [
    "#19\n",
    "dic={\"nombre\":\"carol\",\"edad\":21}\n",
    "estudiantes.append(dic)\n",
    "for diccionario in estudiantes:\n",
    "    print(diccionario.values())"
   ]
  },
  {
   "cell_type": "code",
   "execution_count": 8,
   "metadata": {},
   "outputs": [
    {
     "name": "stdout",
     "output_type": "stream",
     "text": [
      "[{'nombre': 'eduardo', 'edad': 31}, {'edad': 40}, {'nombre': 'carol', 'edad': 21}]\n"
     ]
    }
   ],
   "source": [
    "#20\n",
    "del estudiantes[1][\"nombre\"]\n",
    "print(estudiantes)"
   ]
  },
  {
   "cell_type": "code",
   "execution_count": 21,
   "metadata": {},
   "outputs": [
    {
     "name": "stdout",
     "output_type": "stream",
     "text": [
      "[{'nombre': 'eduardo', 'edad': 21}, {'edad': 40}, {'nombre': 'carol', 'edad': 21}, {'nombre': 'carol', 'edad': 21}, {'nombre': 'carol', 'edad': 21}, {'nombre': 'carol', 'edad': 21}, {'nombre': 'carol', 'edad': 21}, {'nombre': 'carol', 'edad': 21}, {'nombre': 'carol', 'edad': 21}]\n"
     ]
    }
   ],
   "source": [
    "#21\n",
    "estudiantes[0][\"edad\"]=21\n",
    "print(estudiantes)"
   ]
  },
  {
   "cell_type": "code",
   "execution_count": 29,
   "metadata": {},
   "outputs": [
    {
     "name": "stdout",
     "output_type": "stream",
     "text": [
      "Laptop 1200\n",
      "Nombre: Laptop, Precio: 1200\n",
      "Smartphone 800\n",
      "Nombre: Smartphone, Precio: 800\n",
      "{'producto1': {'nombre': 'Laptop', 'precio': 1200}, 'producto2': {'nombre': 'Smartphone', 'precio': 800}, 'productos': {'nombre': 'carol', 'edad': 21}}\n"
     ]
    }
   ],
   "source": [
    "#22\n",
    "productos = {\n",
    "    \"producto1\": {\"nombre\": \"Laptop\", \"precio\": 1200},\n",
    "    \"producto2\": {\"nombre\": \"Smartphone\", \"precio\": 800}\n",
    "}\n",
    "for clave, detalles in productos.items():\n",
    "    print(detalles[\"nombre\"],detalles[\"precio\"])\n",
    "    print(f\"Nombre: {detalles['nombre']}, Precio: {detalles['precio']}\")\n",
    "#23\n",
    "productos[\"productos\"]={\"nombre\":\"carol\",\"edad\":21,}\n",
    "\n"
   ]
  },
  {
   "cell_type": "code",
   "execution_count": 38,
   "metadata": {},
   "outputs": [
    {
     "name": "stdout",
     "output_type": "stream",
     "text": [
      "colo-colo ['ronaldo', 'boseyour', 'gary']\n",
      "u de chile ['jose', 'carol', 'bravo', 'alexis']\n",
      "curicuri ['martinez', 'jake', 'gormaz']\n",
      "colo-colo ['ronaldo', 'boseyour', 'gary']\n",
      "u de chile ['jose', 'carol', 'bravo', 'alexis']\n",
      "curicuri ['martinez', 'jake', 'gormaz']\n",
      "curicuri [1, 1, 2, 3, 4]\n"
     ]
    }
   ],
   "source": [
    "#24\n",
    "equipos={\"equipo1\":{\"nombre\":\"colo-colo\",\"jugadores\":[\"ronaldo\",\"boseyour\",\"gary\"],},\n",
    "         \"equipo2\":{\"nombre\":\"u de chile\",\"jugadores\":[\"jose\",\"carol\",\"bravo\",\"alexis\"]},\n",
    "         \"equipo3\":{\"nombre\":\"curicuri\",\"jugadores\":[\"martinez\",\"jake\",\"gormaz\"]}\n",
    "        }\n",
    "\n",
    "for clave, detalle in equipos.items():\n",
    "    print(detalle['nombre'],detalle['jugadores'])\n",
    "#25\n",
    "equipos[\"equipo4\"]={\"nombre\":\"curicuri\",\"jugadores\":[\"martinez\",\"jake\",\"gormaz\"]}\n",
    "\n",
    "\n",
    "equipos[\"equipo4\"][\"jugadores\"]=[1,1,2,3,4]\n",
    "for clave, detalle in equipos.items():\n",
    "    print(detalle['nombre'],detalle['jugadores'])"
   ]
  },
  {
   "cell_type": "code",
   "execution_count": null,
   "metadata": {},
   "outputs": [],
   "source": [
    "#25\n",
    "\n"
   ]
  }
 ],
 "metadata": {
  "kernelspec": {
   "display_name": "jake",
   "language": "python",
   "name": "python3"
  },
  "language_info": {
   "codemirror_mode": {
    "name": "ipython",
    "version": 3
   },
   "file_extension": ".py",
   "mimetype": "text/x-python",
   "name": "python",
   "nbconvert_exporter": "python",
   "pygments_lexer": "ipython3",
   "version": "3.12.4"
  }
 },
 "nbformat": 4,
 "nbformat_minor": 2
}
