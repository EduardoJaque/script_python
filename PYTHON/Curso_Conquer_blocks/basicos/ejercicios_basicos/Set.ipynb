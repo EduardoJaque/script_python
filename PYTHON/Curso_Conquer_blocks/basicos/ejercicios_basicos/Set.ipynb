{
 "cells": [
  {
   "cell_type": "code",
   "execution_count": 2,
   "metadata": {},
   "outputs": [
    {
     "name": "stdout",
     "output_type": "stream",
     "text": [
      "{1, 3, 4, 5, 6, 7, 8, 9}\n"
     ]
    }
   ],
   "source": [
    "#numero 14\n",
    "mi_set={1,2,3,4,5,6,7,8,9}\n",
    "mi_set.remove(2)\n",
    "print(mi_set)"
   ]
  },
  {
   "cell_type": "code",
   "execution_count": null,
   "metadata": {},
   "outputs": [],
   "source": [
    "#numero 15\n",
    "mi_set_vacio=set()"
   ]
  },
  {
   "cell_type": "code",
   "execution_count": 6,
   "metadata": {},
   "outputs": [
    {
     "name": "stdout",
     "output_type": "stream",
     "text": [
      "Unión: {1, 2, 3, 4, 5}\n",
      "{3}\n",
      "{1, 2}\n"
     ]
    }
   ],
   "source": [
    "#numero 16\n",
    "set1 = {1, 2, 3}\n",
    "set2 = {3, 4, 5}\n",
    "\n",
    "# Usando el método union()\n",
    "union_set = set1.union(set2)\n",
    "print(\"Unión:\", union_set)\n",
    "# usando intersection \"interseccion\"\n",
    "interseccion_set=set1.intersection(set2)\n",
    "print(interseccion_set)\n",
    "# usando difference\n",
    "diferencia_set=set1.difference(set2)\n",
    "print(diferencia_set)"
   ]
  },
  {
   "cell_type": "code",
   "execution_count": 7,
   "metadata": {},
   "outputs": [
    {
     "name": "stdout",
     "output_type": "stream",
     "text": [
      "{3}\n"
     ]
    }
   ],
   "source": [
    "# numero 17\n",
    "interseccion=set1.intersection(set2)\n",
    "print(interseccion)"
   ]
  },
  {
   "cell_type": "code",
   "execution_count": 8,
   "metadata": {},
   "outputs": [
    {
     "name": "stdout",
     "output_type": "stream",
     "text": [
      "3\n"
     ]
    }
   ],
   "source": [
    "#numero 18\n",
    "print(max(set1))"
   ]
  },
  {
   "cell_type": "code",
   "execution_count": 13,
   "metadata": {},
   "outputs": [
    {
     "name": "stdout",
     "output_type": "stream",
     "text": [
      "<class 'set'>\n"
     ]
    }
   ],
   "source": [
    "#numero 19\n",
    "set_nuevo=set1.symmetric_difference(set2)\n",
    "print(set_nuevo)"
   ]
  },
  {
   "cell_type": "code",
   "execution_count": 15,
   "metadata": {},
   "outputs": [
    {
     "name": "stdout",
     "output_type": "stream",
     "text": [
      "False\n"
     ]
    }
   ],
   "source": [
    "#numero 20\n",
    "set_colores=(\"rojo\",\"azul\",\"amarillo\")\n",
    "color=\"rojo\"\n",
    "print(color in set_colores)"
   ]
  },
  {
   "cell_type": "code",
   "execution_count": 18,
   "metadata": {},
   "outputs": [
    {
     "name": "stdout",
     "output_type": "stream",
     "text": [
      "{1, 2}\n"
     ]
    }
   ],
   "source": [
    "#numero 21\n",
    "set_21=set1.difference(set2)\n",
    "print(set_21)"
   ]
  },
  {
   "cell_type": "code",
   "execution_count": 19,
   "metadata": {},
   "outputs": [
    {
     "name": "stdout",
     "output_type": "stream",
     "text": [
      "El producto de todos los números en el set es: 24\n"
     ]
    }
   ],
   "source": [
    "#numero 22\n",
    "def producto_de_set(numeros):\n",
    "    # Inicializar el producto en 1 (ya que 1 es el elemento neutro de la multiplicación)\n",
    "    producto = 1\n",
    "    for numero in numeros:\n",
    "        producto *= numero\n",
    "    return producto\n",
    "\n",
    "# Ejemplo de uso\n",
    "mi_set = {1, 2, 3, 4}\n",
    "resultado = producto_de_set(mi_set)\n",
    "print(\"El producto de todos los números en el set es:\", resultado)\n"
   ]
  }
 ],
 "metadata": {
  "kernelspec": {
   "display_name": "jake",
   "language": "python",
   "name": "python3"
  },
  "language_info": {
   "codemirror_mode": {
    "name": "ipython",
    "version": 3
   },
   "file_extension": ".py",
   "mimetype": "text/x-python",
   "name": "python",
   "nbconvert_exporter": "python",
   "pygments_lexer": "ipython3",
   "version": "3.12.4"
  }
 },
 "nbformat": 4,
 "nbformat_minor": 2
}
