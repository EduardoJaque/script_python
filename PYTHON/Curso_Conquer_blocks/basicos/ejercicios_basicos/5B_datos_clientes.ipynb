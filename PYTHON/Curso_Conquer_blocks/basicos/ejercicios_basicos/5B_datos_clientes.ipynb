{
 "cells": [
  {
   "cell_type": "code",
   "execution_count": 55,
   "metadata": {},
   "outputs": [
    {
     "name": "stdout",
     "output_type": "stream",
     "text": [
      "[('Juan', 'juan@example.com', '555-1234', 'Calle 123', ('Libro1', 'Libro2')), ('Maria', 'maria@example.com', '555-5678', 'Calle 456', ('Libro3',))]\n"
     ]
    }
   ],
   "source": [
    "# Listas de tuplas\n",
    "base_datos1 = [(\"Juan\", \"juan@example.com\", \"555-1234\"), (\"Maria\", \"maria@example.com\", \"555-5678\"), (\"Pedro\", \"pedro@example.com\", \"555-9012\")]\n",
    "base_datos2 = [(\"Juan\", \"Calle 123\", [\"Libro1\", \"Libro2\"]), (\"Maria\", \"Calle 456\", [\"Libro3\"]), (\"Luis\", \"Calle 789\", [\"Libro4\"])]\n",
    "\n",
    "lista=[]\n",
    "# Crear una nueva lista de tuplas con los clientes que aparecen en ambas bases de datos\n",
    "for nombre, correo, numero in base_datos1:\n",
    "    for nombre2,direccion,libros in base_datos2:\n",
    "        if nombre == nombre2:\n",
    "            mi_tupla=tuple((nombre, correo, numero, direccion, tuple(libros)))\n",
    "            lista.append(mi_tupla)\n",
    "\n",
    "print(lista)"
   ]
  }
 ],
 "metadata": {
  "kernelspec": {
   "display_name": "jake",
   "language": "python",
   "name": "python3"
  },
  "language_info": {
   "codemirror_mode": {
    "name": "ipython",
    "version": 3
   },
   "file_extension": ".py",
   "mimetype": "text/x-python",
   "name": "python",
   "nbconvert_exporter": "python",
   "pygments_lexer": "ipython3",
   "version": "3.12.4"
  }
 },
 "nbformat": 4,
 "nbformat_minor": 2
}
