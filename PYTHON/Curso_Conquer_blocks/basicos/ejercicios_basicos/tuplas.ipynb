{
 "cells": [
  {
   "cell_type": "code",
   "execution_count": 20,
   "metadata": {},
   "outputs": [
    {
     "name": "stdout",
     "output_type": "stream",
     "text": [
      "1\n",
      "2\n",
      "3\n"
     ]
    }
   ],
   "source": [
    "# Numero 1\n",
    "mi_tupla=(1,2,3)\n",
    "for i in mi_tupla:\n",
    "    print(i)\n",
    "\n"
   ]
  },
  {
   "cell_type": "code",
   "execution_count": 21,
   "metadata": {},
   "outputs": [
    {
     "name": "stdout",
     "output_type": "stream",
     "text": [
      "(1, 2, 3)\n"
     ]
    }
   ],
   "source": [
    "# numero 2\n",
    "mi_lista=[3,2,1]\n",
    "mi_lista[0]=1\n",
    "print(mi_tupla)"
   ]
  },
  {
   "cell_type": "code",
   "execution_count": 26,
   "metadata": {},
   "outputs": [
    {
     "name": "stdout",
     "output_type": "stream",
     "text": [
      " la suma de la tupla es: 6\n"
     ]
    }
   ],
   "source": [
    "#numero 3\n",
    "print(f\" la suma de la tupla es: {sum(mi_tupla)}\")"
   ]
  },
  {
   "cell_type": "code",
   "execution_count": 23,
   "metadata": {},
   "outputs": [
    {
     "name": "stdout",
     "output_type": "stream",
     "text": [
      "h m e e u t "
     ]
    }
   ],
   "source": [
    "#numero 4 \n",
    "tupla_con_tring=(\"hola\",\"mundo\",\"esto\",\"es\",\"una\",\"tupla\")\n",
    "for i in tupla_con_tring:\n",
    "    print(i[0],end=\" \")\n"
   ]
  },
  {
   "cell_type": "code",
   "execution_count": 24,
   "metadata": {},
   "outputs": [
    {
     "name": "stdout",
     "output_type": "stream",
     "text": [
      "4 6 4 2 4 6 8 12 "
     ]
    }
   ],
   "source": [
    "#numero 5\n",
    "mi_tupla_desordenada=(4,6,7,4,2,1,4,5,6,7,8,231,12)\n",
    "for i in mi_tupla_desordenada:\n",
    "    if i%2 == 0:\n",
    "        print(i,end=\" \")\n",
    "    else:\n",
    "        pass\n"
   ]
  },
  {
   "cell_type": "code",
   "execution_count": 25,
   "metadata": {},
   "outputs": [
    {
     "name": "stdout",
     "output_type": "stream",
     "text": [
      "[231, 12, 8, 7, 7, 6, 6, 5, 4, 4, 4, 2, 1]\n"
     ]
    }
   ],
   "source": [
    "#numero 6\n",
    "mi_tupla_desordenada=(4,6,7,4,2,1,4,5,6,7,8,231,12)\n",
    "print(sorted(mi_tupla_desordenada, reverse=True))"
   ]
  },
  {
   "cell_type": "code",
   "execution_count": 27,
   "metadata": {},
   "outputs": [
    {
     "name": "stdout",
     "output_type": "stream",
     "text": [
      "{1, 2, 4, 5, 6, 7, 8, 231, 12}\n"
     ]
    }
   ],
   "source": [
    "# numero 7\n",
    "mi_set=set()\n",
    "for i in mi_tupla_desordenada:\n",
    "    mi_set.add(i)\n",
    "print(mi_set)"
   ]
  },
  {
   "cell_type": "code",
   "execution_count": 28,
   "metadata": {},
   "outputs": [
    {
     "name": "stdout",
     "output_type": "stream",
     "text": [
      "True\n",
      "False\n",
      "True\n",
      "True\n"
     ]
    }
   ],
   "source": [
    "# numero 8\n",
    "mis_numeros_enteros=(1,34,5,7)\n",
    "for i in mis_numeros_enteros:\n",
    "    print(i in mi_tupla_desordenada)"
   ]
  },
  {
   "cell_type": "code",
   "execution_count": 29,
   "metadata": {},
   "outputs": [
    {
     "name": "stdout",
     "output_type": "stream",
     "text": [
      "(1, 34, 5, 7, 4, 6, 7, 4, 2, 1, 4, 5, 6, 7, 8, 231, 12)\n"
     ]
    }
   ],
   "source": [
    "# numero 9\n",
    "tupla_concatenada=mis_numeros_enteros+mi_tupla_desordenada\n",
    "print(tupla_concatenada)"
   ]
  },
  {
   "cell_type": "code",
   "execution_count": 33,
   "metadata": {},
   "outputs": [
    {
     "name": "stdout",
     "output_type": "stream",
     "text": [
      "numero maximo 231\n",
      "numero minimo 1\n"
     ]
    }
   ],
   "source": [
    "#numero 10\n",
    "print(f\"numero maximo {max(mi_tupla_desordenada)}\")\n",
    "print(f\"numero minimo {min(mi_tupla_desordenada)}\")"
   ]
  },
  {
   "cell_type": "code",
   "execution_count": 36,
   "metadata": {},
   "outputs": [
    {
     "name": "stdout",
     "output_type": "stream",
     "text": [
      "mundo\n",
      "es\n"
     ]
    }
   ],
   "source": [
    "#numero 11\n",
    "print(max(tupla_con_tring, key=len))\n",
    "print(min(tupla_con_tring, key=len))"
   ]
  },
  {
   "cell_type": "code",
   "execution_count": 56,
   "metadata": {},
   "outputs": [
    {
     "name": "stdout",
     "output_type": "stream",
     "text": [
      "(6, 9, 9, 6)\n"
     ]
    },
    {
     "ename": "",
     "evalue": "",
     "output_type": "error",
     "traceback": [
      "\u001b[1;31mEl kernel se bloqueó al ejecutar código en la celda actual o en una celda anterior. \n",
      "\u001b[1;31mRevise el código de las celdas para identificar una posible causa del error. \n",
      "\u001b[1;31mHaga clic <a href='https://aka.ms/vscodeJupyterKernelCrash'>aquí</a> para obtener más información. \n",
      "\u001b[1;31mVea Jupyter <a href='command:jupyter.viewOutput'>log</a> para obtener más detalles."
     ]
    }
   ],
   "source": [
    "#numero 12\n",
    "lista=[]\n",
    "tupla_de_tuplas = ((1, 5), (2, 7), (3, 6), (4, 2))\n",
    "for i,j in tupla_de_tuplas:\n",
    "    contador=i+j\n",
    "    lista.append(contador)\n",
    "nueva_tupla=tuple(lista)\n",
    "print(nueva_tupla)"
   ]
  }
 ],
 "metadata": {
  "kernelspec": {
   "display_name": "jake",
   "language": "python",
   "name": "python3"
  },
  "language_info": {
   "codemirror_mode": {
    "name": "ipython",
    "version": 3
   },
   "file_extension": ".py",
   "mimetype": "text/x-python",
   "name": "python",
   "nbconvert_exporter": "python",
   "pygments_lexer": "ipython3",
   "version": "3.12.4"
  }
 },
 "nbformat": 4,
 "nbformat_minor": 2
}
