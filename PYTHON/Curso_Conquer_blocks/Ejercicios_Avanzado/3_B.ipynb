{
 "cells": [
  {
   "cell_type": "markdown",
   "metadata": {},
   "source": [
    "CUENTA BANCARIA\n",
    "Crea una clase \"CuentaBancaria\" con atributos como número de cuenta y\n",
    "saldo. Implementa métodos para depositar y retirar dinero, y muestra el\n",
    "saldo actual."
   ]
  },
  {
   "cell_type": "code",
   "execution_count": 3,
   "metadata": {},
   "outputs": [
    {
     "name": "stdout",
     "output_type": "stream",
     "text": [
      "deposito de 100\n",
      "retiro de 50\n",
      "su saldo es de 50\n"
     ]
    }
   ],
   "source": [
    "class CuentaBancaria:\n",
    "\n",
    "    def __init__(self,cuenta,saldo):\n",
    "        self.numero_cuenta=cuenta\n",
    "        self.saldo_en_cuenta=saldo\n",
    "\n",
    "    def depositar(self,saldo):\n",
    "        self.saldo_en_cuenta+=saldo\n",
    "        return self.saldo_en_cuenta\n",
    "        \n",
    "    def retirar(self,saldo):\n",
    "        self.saldo_en_cuenta-=saldo\n",
    "        return self.saldo_en_cuenta\n",
    "    def mostrar(self):\n",
    "        return self.saldo_en_cuenta\n",
    "\n",
    "cuenta_1=CuentaBancaria(18218460,0)\n",
    "\n",
    "print(f\"deposito de {cuenta_1.depositar(100)}\")\n",
    "print(f\"retiro de {cuenta_1.retirar(50)}\")\n",
    "print(f\"su saldo es de {cuenta_1.mostrar()}\")\n",
    "\n"
   ]
  },
  {
   "cell_type": "markdown",
   "metadata": {},
   "source": [
    "LISTA DE TAREAS\n",
    "Crea una clase \"ListaTareas\" que contenga una lista de tareas pendientes.\n",
    "Implementa métodos para agregar una tarea, marcar una tarea como\n",
    "completada y mostrar todas las tareas"
   ]
  },
  {
   "cell_type": "code",
   "execution_count": 4,
   "metadata": {},
   "outputs": [
    {
     "name": "stdout",
     "output_type": "stream",
     "text": [
      "las tareas pendientes son ['quemar papeles', 'armar resma', 'correr', 'jugar']\n",
      "las tareas pendientes son ['correr', 'jugar']\n"
     ]
    }
   ],
   "source": [
    "class ListaTareas:\n",
    "    def __init__(self):\n",
    "        self.lista_de_tareas=[]\n",
    "    def agregar(self,tarea):\n",
    "        self.lista_de_tareas.append(tarea)\n",
    "    def completar_tarea(self,tarea):\n",
    "        self.lista_de_tareas.remove(tarea)\n",
    "    def mostrar(self):\n",
    "        return self.lista_de_tareas\n",
    "tareas=ListaTareas()\n",
    "tareas.agregar(\"quemar papeles\")\n",
    "tareas.agregar(\"armar resma\")\n",
    "tareas.agregar(\"correr\")\n",
    "tareas.agregar(\"jugar\")\n",
    "print(f\"las tareas pendientes son {tareas.mostrar()}\")\n",
    "tareas.completar_tarea(\"quemar papeles\")\n",
    "tareas.completar_tarea(\"armar resma\")\n",
    "print(f\"las tareas pendientes son {tareas.mostrar()}\")\n",
    "\n"
   ]
  }
 ],
 "metadata": {
  "kernelspec": {
   "display_name": "Python 3",
   "language": "python",
   "name": "python3"
  },
  "language_info": {
   "codemirror_mode": {
    "name": "ipython",
    "version": 3
   },
   "file_extension": ".py",
   "mimetype": "text/x-python",
   "name": "python",
   "nbconvert_exporter": "python",
   "pygments_lexer": "ipython3",
   "version": "3.12.1"
  }
 },
 "nbformat": 4,
 "nbformat_minor": 2
}
