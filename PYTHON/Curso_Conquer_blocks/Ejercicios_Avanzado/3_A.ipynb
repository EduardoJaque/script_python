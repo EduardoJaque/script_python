{
 "cells": [
  {
   "cell_type": "markdown",
   "metadata": {},
   "source": [
    "CLASE PERSONA\n",
    "Define una clase Persona con atributos como nombre, edad y profesión. Luego, crea varios objetos de esta clase y muestra su información."
   ]
  },
  {
   "cell_type": "code",
   "execution_count": 13,
   "metadata": {},
   "outputs": [
    {
     "name": "stdout",
     "output_type": "stream",
     "text": [
      "juan 24\n",
      "luis 26\n",
      "y son('ingeniero', 'ingeniero nautico')\n"
     ]
    }
   ],
   "source": [
    "class Persona:\n",
    "    def __init__(self,nombre,edad,profesion):\n",
    "        self.nombre=nombre\n",
    "        self.edad=edad\n",
    "        self.profesion=profesion\n",
    "\n",
    "persona_1=Persona(\"juan\",24,\"ingeniero\")\n",
    "persona_2=Persona(\"luis\",26,\"ingeniero nautico\")\n",
    "print(persona_1.nombre,persona_1.edad)\n",
    "print(persona_2.nombre,persona_2.edad)\n",
    "print(f\"y son{persona_1.profesion,persona_2.profesion}\")\n"
   ]
  },
  {
   "cell_type": "markdown",
   "metadata": {},
   "source": [
    "CALCULADORA BÁSICA\n",
    "Crea una clase llamada “Calculadora” con métodos para sumar, restar, multiplicar y dividir. Crea objetos de esta clase y realiza algunas operaciones básicas."
   ]
  },
  {
   "cell_type": "code",
   "execution_count": 25,
   "metadata": {},
   "outputs": [
    {
     "name": "stdout",
     "output_type": "stream",
     "text": [
      "4\n",
      "0\n",
      "4\n",
      "1.0\n"
     ]
    }
   ],
   "source": [
    "#defino clase\n",
    "class calculadora:\n",
    "    \"\"\"definir los elementos de entrada\"\"\"\n",
    "    def __init__(self,x1,x2):\n",
    "        self.numero_1=x1\n",
    "        self.numero_2=x2\n",
    "        \"\"\"crear las funciones\"\"\"\n",
    "    def suma(self):\n",
    "        return self.numero_1+self.numero_2\n",
    "    def resta(self):\n",
    "        return self.numero_1-self.numero_2\n",
    "    def multiplo(self):\n",
    "        return self.numero_1*self.numero_2\n",
    "    def dividir(self):\n",
    "        return self.numero_1/self.numero_2\n",
    "\n",
    "numeros=calculadora(2,2)\n",
    "print(numeros.suma())\n",
    "print(numeros.resta())\n",
    "print(numeros.multiplo())\n",
    "print(numeros.dividir())"
   ]
  },
  {
   "cell_type": "markdown",
   "metadata": {},
   "source": [
    "LIBRO\n",
    "Crea una clase “Libro” con atributos como título, autor y año de publicación. Luego, crea varios objetos Libro y muestra su información."
   ]
  },
  {
   "cell_type": "code",
   "execution_count": 8,
   "metadata": {},
   "outputs": [
    {
     "name": "stdout",
     "output_type": "stream",
     "text": [
      "el nombe del libro es papelucho peluquero, del autor marcela paz, del año 1947\n"
     ]
    }
   ],
   "source": [
    "class Libro:\n",
    "    def __init__(self,titulo,autor,año):\n",
    "        self.nombre_libro=titulo\n",
    "        self.autor_libro=autor\n",
    "        self.año_publicacion=año\n",
    "    def mostrar(self):\n",
    "        print(f\"el nombe del libro es {self.nombre_libro}, del autor {self.autor_libro}, del año {self.año_publicacion}\")\n",
    "\n",
    "libro_1=Libro(\"papelucho peluquero\",\"marcela paz\",\"1947\")\n",
    "libro_1.mostrar()"
   ]
  },
  {
   "cell_type": "markdown",
   "metadata": {},
   "source": [
    "RECTÁNGULO\n",
    "Crea una clase “Rectangulo” con atributos de longitud y ancho. Implementa un método para calcular el área y el perímetro del rectángulo."
   ]
  },
  {
   "cell_type": "code",
   "execution_count": 8,
   "metadata": {},
   "outputs": [
    {
     "name": "stdout",
     "output_type": "stream",
     "text": [
      "el area del rectangulo de 7 largo  por 8 de ancho es de |56cm|\n"
     ]
    }
   ],
   "source": [
    "class Rectangulo:\n",
    "    def __init__(self, longitud, ancho):\n",
    "        self.longitud_del_rectangulo=longitud\n",
    "        self.ancho_del_rectangulo=ancho\n",
    "    def area(self):\n",
    "        return self.longitud_del_rectangulo * self.ancho_del_rectangulo\n",
    "    \n",
    "Rectangulo_1=Rectangulo(7,8)\n",
    "\n",
    "print(f\"el area del rectangulo de {Rectangulo_1.longitud_del_rectangulo} largo  por {Rectangulo_1.ancho_del_rectangulo} de ancho es de |{Rectangulo_1.area()}cm|\")\n"
   ]
  },
  {
   "cell_type": "markdown",
   "metadata": {},
   "source": [
    "DADO\n",
    "Crea una clase “Dado” que simule el lanzamiento de un dado de 6 caras. Implementa un método para lanzar el dado y mostrar el resultado (quizás te convenga usar el modulo random)."
   ]
  },
  {
   "cell_type": "code",
   "execution_count": 24,
   "metadata": {},
   "outputs": [
    {
     "name": "stdout",
     "output_type": "stream",
     "text": [
      "resultado del dado es 3\n"
     ]
    }
   ],
   "source": [
    "import random \n",
    "\n",
    "class Dado:\n",
    "    def __init__(self):\n",
    "        self.cara = random.randint(1, 6)\n",
    "cara_dado=Dado()\n",
    "print(f\"resultado del dado es {cara_dado.cara}\")"
   ]
  },
  {
   "cell_type": "markdown",
   "metadata": {},
   "source": [
    "COCHE\n",
    "Crea una clase “Coche” con atributos como marca, modelo y año. Implementa un método para encender el coche y otro para apagarlo (puedes simulae el encendido y apagado con una variable booleana)."
   ]
  },
  {
   "cell_type": "code",
   "execution_count": 35,
   "metadata": {},
   "outputs": [
    {
     "name": "stdout",
     "output_type": "stream",
     "text": [
      "el vehiculo Nissan modelo NP-300 del año 2022 esta encendido\n",
      "ahora esta apagado\n"
     ]
    }
   ],
   "source": [
    "class Coche:\n",
    "    def __init__(self,marca,modelo,año):\n",
    "        self.marca_vehiculo=marca\n",
    "        self.modelo_vehiculo=modelo\n",
    "        self.año_fabricacion=año\n",
    "    def arranque(self):\n",
    "        self.encendido=\"encendido\"\n",
    "        return self.encendido\n",
    "    def apagar(self):\n",
    "        self.apagado=\"apagado\"\n",
    "        return self.apagado\n",
    "\n",
    "vehiculo=Coche(\"Nissan\",\"NP-300\",2022)\n",
    "\n",
    "print(f\"el vehiculo {vehiculo.marca_vehiculo} modelo {vehiculo.modelo_vehiculo} del año {vehiculo.año_fabricacion} esta {vehiculo.arranque()}\")\n",
    "\n",
    "print(f\"ahora esta {vehiculo.apagar()}\")\n",
    "\n"
   ]
  }
 ],
 "metadata": {
  "kernelspec": {
   "display_name": "Python 3",
   "language": "python",
   "name": "python3"
  },
  "language_info": {
   "codemirror_mode": {
    "name": "ipython",
    "version": 3
   },
   "file_extension": ".py",
   "mimetype": "text/x-python",
   "name": "python",
   "nbconvert_exporter": "python",
   "pygments_lexer": "ipython3",
   "version": "3.12.1"
  }
 },
 "nbformat": 4,
 "nbformat_minor": 2
}
